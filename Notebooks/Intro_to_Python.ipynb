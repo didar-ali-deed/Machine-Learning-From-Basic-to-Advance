{
 "cells": [
  {
   "cell_type": "markdown",
   "id": "00557173",
   "metadata": {},
   "source": [
    "# Python Overview\n",
    "\n",
    "**Description:**  \n",
    "Python is a high-level, interpreted language known for its simplicity and readability.\n",
    "\n",
    "- Created by **Guido van Rossum**, first released in **1991**.  \n",
    "- Supports multiple paradigms: **object-oriented**, **procedural**, and **functional**.  \n",
    "- Features a vast ecosystem of libraries for **data analysis**, **web development**, and more.\n"
   ]
  },
  {
   "cell_type": "markdown",
   "id": "cc6082b4",
   "metadata": {},
   "source": [
    "# Conceptual Comparison\n",
    "\n",
    "## Python\n",
    "- Simple, concise syntax  \n",
    "- **Interpreted**: Runs without compilation  \n",
    "- **Dynamic typing**: No need to declare variable types  \n",
    "\n",
    "## C\n",
    "- Low-level, closer to hardware  \n",
    "- **Compiled**: Requires compilation to machine code  \n",
    "- **Manual memory management** (e.g., `malloc`, `free`)  \n",
    "\n",
    "## C++\n",
    "- **Compiled**, supports object-oriented programming  \n",
    "- Complex syntax with **templates** and **classes**  \n",
    "- **Manual and automatic memory management** (e.g., `new`, `delete`)\n"
   ]
  },
  {
   "cell_type": "markdown",
   "id": "2eb139b3",
   "metadata": {},
   "source": [
    "# Example: Printing \"Hello, World\"\n",
    "\n",
    "## Python\n",
    "```python\n",
    "print(\"Hello, World\")\n",
    "\n",
    "```\n",
    "### C\n",
    "```\n",
    "#include <stdio.h>\n",
    "\n",
    "int main() {\n",
    "    printf(\"Hello, World\\n\");\n",
    "    return 0;\n",
    "}\n",
    "\n",
    "```\n",
    "\n",
    "### C++\n",
    "```\n",
    "#include <iostream>\n",
    "\n",
    "int main() {\n",
    "    std::cout << \"Hello, World\" << std::endl;\n",
    "    return 0;\n",
    "}```\n"
   ]
  },
  {
   "cell_type": "markdown",
   "id": "349f2115",
   "metadata": {},
   "source": [
    "# Variables, Values, Expressions, andStatements\n",
    "#  Variables\n",
    "Definition:\n",
    "A variable is a symbolic name that holds a reference to a value in memory. In Python, variables are dynamically typed, meaning you don't need to specify the type of data the variable will store. The variable acts as a label to access the value stored in memory.\n",
    "```\n",
    "x=10\n",
    "y='Hello'\n",
    "```\n",
    "### 🔹🔹 1. Values\n",
    "Definition:\n",
    "A value is a basic unit of data that a program works with. It could be a number, a string, etc.\n",
    "```\n",
    "x=\"Hello\" # this is string\n",
    "y=31.3 # this is number(float)\n",
    "```\n",
    "\n",
    "### 🔹 2. Expressions\n",
    "Definition:\n",
    "An expression is a combination of values, variables, and operators that results in a value.\n",
    "\n",
    "```\n",
    "22*4*6+44\n",
    "\"Hello\" + \"World\"\n",
    "```\n",
    "### 🔹 3. Statements\n",
    "Definition:\n",
    "A statement is an instruction that the Python interpreter can execute. For example, assignments, loops, and function definitions are all statements.\n",
    "\n",
    "``` \n",
    "x=10\n",
    "y=11\n",
    "z=x+y\n",
    "```"
   ]
  },
  {
   "cell_type": "code",
   "execution_count": 188,
   "id": "485f9874",
   "metadata": {},
   "outputs": [
    {
     "name": "stdout",
     "output_type": "stream",
     "text": [
      "X:  10\n",
      "Y:  11\n",
      "Z=X+Y:  21\n"
     ]
    }
   ],
   "source": [
    "x=10\n",
    "print(\"X: \",x)\n",
    "y=11\n",
    "print(\"Y: \",y)\n",
    "z=x+y\n",
    "print(\"Z=X+Y: \",z)"
   ]
  },
  {
   "cell_type": "markdown",
   "id": "2a3553a3",
   "metadata": {},
   "source": [
    "# Arithmetic Operations:\n",
    "Arithmetic operations are mathematical operations that perform calculations on numeric values. Common arithmetic operators in Python include:\n",
    "```\n",
    " + (addition)\n",
    "\n",
    "- (subtraction)\n",
    "\n",
    "* (multiplication)\n",
    "\n",
    "/ (division)\n",
    "\n",
    "// (floor division)\n",
    "\n",
    "% (modulus)\n",
    "\n",
    "** (exponentiation)\n",
    "```"
   ]
  },
  {
   "cell_type": "code",
   "execution_count": 189,
   "id": "f7710063",
   "metadata": {},
   "outputs": [
    {
     "name": "stdout",
     "output_type": "stream",
     "text": [
      "X+Y:  20\n",
      "X-Y:  0\n",
      "X/Y:  1.0\n",
      "X//Y:  1\n",
      "X*Y:  100\n",
      "X%Y:  0\n",
      "X^2:  100\n",
      "X^3:  1000\n"
     ]
    },
    {
     "data": {
      "text/plain": [
       "<function print>"
      ]
     },
     "execution_count": 189,
     "metadata": {},
     "output_type": "execute_result"
    }
   ],
   "source": [
    "x=10\n",
    "y=10\n",
    "print(\"X+Y: \", x+y) #addition OF X+Y\n",
    "print(\"X-Y: \", x-y) #subtract Y FROM X\n",
    "print(\"X/Y: \", x/y) #DIVIDE X BY Y ((Result is float))\n",
    "print(\"X//Y: \", x//y) #DIVIDE X BY Y ((Result is Integer))\n",
    "print(\"X*Y: \", x*y) #MULTIPLY X BY Y\n",
    "print(\"X%Y: \", x%y) #MODULUS OF X AND Y\n",
    "print(\"X^2: \", x**2) #SQUARE OF X\n",
    "print(\"X^3: \", x**3) #CUBE OF X\n",
    "\n",
    "print"
   ]
  },
  {
   "cell_type": "markdown",
   "id": "316d21f5",
   "metadata": {},
   "source": [
    "# Logical Operations:\n",
    "Logical operations are used to combine or compare boolean values (True or False). Common logical operators in Python include:\n",
    "\n",
    "``` \n",
    "and (True if both conditions are True)\n",
    "\n",
    "or (True if at least one condition is True)\n",
    "\n",
    "not (inverts the boolean value)\n",
    "```"
   ]
  },
  {
   "cell_type": "code",
   "execution_count": 190,
   "id": "fbc881ae",
   "metadata": {},
   "outputs": [
    {
     "name": "stdout",
     "output_type": "stream",
     "text": [
      "1\n",
      "1\n"
     ]
    }
   ],
   "source": [
    "x=1\n",
    "y=1\n",
    "print(x and y)\n",
    "print(x or y)"
   ]
  },
  {
   "cell_type": "markdown",
   "id": "561095fb",
   "metadata": {},
   "source": [
    "# Comparison Operators\n",
    "Comparison Operators are used to compare values and return a boolean result. Here is the list:\n",
    "```\n",
    "== (Equal to)\n",
    "\n",
    "!= (Not equal to)\n",
    "\n",
    "> (Greater than)\n",
    "\n",
    "< (Less than)\n",
    "\n",
    ">= (Greater than or equal to)\n",
    "\n",
    "<= (Less than or equal to)"
   ]
  },
  {
   "cell_type": "code",
   "execution_count": 191,
   "id": "6362ac87",
   "metadata": {},
   "outputs": [
    {
     "name": "stdout",
     "output_type": "stream",
     "text": [
      "True\n",
      "False\n",
      "False\n",
      "True\n",
      "True\n",
      "False\n"
     ]
    }
   ],
   "source": [
    "a=10\n",
    "b=5\n",
    "print(a>b) # a is greater than b (true)\n",
    "print(a<b) # a is less than b (false)\n",
    "print(a==b) #a is equal b (false)\n",
    "print(a!=b) #a is equal b (true)\n",
    "print(a>=b) #a is greater than  or equal b (true)\n",
    "print(a<=b)# a is less than or equal b  (false)"
   ]
  },
  {
   "cell_type": "markdown",
   "id": "e61f48d7",
   "metadata": {},
   "source": [
    "# Keywords\n",
    "Keywords are reserved words in Python that have special meaning and cannot be used as variable names or identifiers. They are used to define the syntax and structure of Python programs.\n",
    "\n",
    "List of common Python keywords:\n",
    "```\n",
    "Edit\n",
    "False      await      else       import     pass\n",
    "None       break      except     in         raise\n",
    "True       class      finally    is         return\n",
    "and        continue   for        lambda     try\n",
    "as         def        from       nonlocal   while\n",
    "assert     del        global     not        with\n",
    "async      elif       if         or         yield\n",
    "\n",
    "```\n",
    "These keywords are fixed and built into the language — you can't redefine or use them for other purposes."
   ]
  },
  {
   "cell_type": "code",
   "execution_count": 192,
   "id": "8b0d21b6",
   "metadata": {},
   "outputs": [
    {
     "name": "stdout",
     "output_type": "stream",
     "text": [
      "Area of cirlce 62.800000000000004\n",
      "Area of Traingle 55.0\n"
     ]
    }
   ],
   "source": [
    "#example of python code upto now\n",
    "pi=3.14\n",
    "width=11\n",
    "height=10\n",
    "radius=10\n",
    "\n",
    "print(\"Area of cirlce\",2*pi*radius)\n",
    "print(\"Area of Traingle\",1/2*width*height)"
   ]
  },
  {
   "cell_type": "markdown",
   "id": "68ce1d3c",
   "metadata": {},
   "source": [
    "# 🔤 What is a String?\n",
    "A string is a sequence of characters enclosed in quotes (single ', double \", or triple '''/\"\"\" for multi-line). It can include letters, numbers, symbols, and whitespace.\n",
    "```\n",
    "#Examples of strings\n",
    "text1 = \"Hello, World!\"\n",
    "text2 = 'Python is fun'\n",
    "text3 = \"\"\"Triple quotes can span\n",
    "multiple lines.\"\"\"\n",
    "\n",
    "```\n",
    "## 🛠️ Common String Operations\n",
    "1. **Concatenation** : Concatenation means joining two or more strings together using the `+` operator.\n",
    "2. **Repetition**:  allows you to repeat a string multiple times using the `*` operator.\n",
    "3. **Indexing**:  means accessing a character at a specific position in a string using square brackets `[].` Indexing starts at 0.\n",
    "\n",
    "4. **✂️ Slicing**:Slicing is used to extract a part (substring) from a string using a range of indices: [start:end]."
   ]
  },
  {
   "cell_type": "code",
   "execution_count": 193,
   "id": "17ff76fb",
   "metadata": {},
   "outputs": [
    {
     "name": "stdout",
     "output_type": "stream",
     "text": [
      "Hello, World!\n",
      "Python is fun\n",
      "Triple quotes can span\n",
      "multiple lines.\n",
      "So here \n"
     ]
    }
   ],
   "source": [
    "#Examples of strings\n",
    "text1 = \"Hello, World!\"\n",
    "text2 = 'Python is fun'\n",
    "text3 = \"\"\"Triple quotes can span\n",
    "multiple lines.\n",
    "So here \"\"\"\n",
    "print(text1) # Hello, World!\n",
    "print(text2) #Python is fun\n",
    "print(text3)\n",
    "\n"
   ]
  },
  {
   "cell_type": "code",
   "execution_count": 194,
   "id": "7df8bd3d",
   "metadata": {},
   "outputs": [
    {
     "name": "stdout",
     "output_type": "stream",
     "text": [
      "Hello, World! Python is fun\n"
     ]
    }
   ],
   "source": [
    "text1 = \"Hello, World!\"\n",
    "text2 = 'Python is fun'\n",
    "# Concatenation\n",
    "text=text1 + \" \" +  text2 # Hello, World! Python is fun\n",
    "print(text)\n",
    "\n"
   ]
  },
  {
   "cell_type": "code",
   "execution_count": 195,
   "id": "5e7049e3",
   "metadata": {},
   "outputs": [
    {
     "name": "stdout",
     "output_type": "stream",
     "text": [
      "Hello Hello Hello \n",
      "Hello Hello Hello Hello Hello \n"
     ]
    }
   ],
   "source": [
    "# Repetition \n",
    "text=\"Hello \" *3\n",
    "print(text) # hello hello hello\n",
    "text=\"Hello \" *5\n",
    "print(text) # hello hello hello hello hello"
   ]
  },
  {
   "cell_type": "code",
   "execution_count": 196,
   "id": "007f4bab",
   "metadata": {},
   "outputs": [
    {
     "name": "stdout",
     "output_type": "stream",
     "text": [
      "P\n",
      "y\n"
     ]
    }
   ],
   "source": [
    "###\n",
    "text = \"Python\"\n",
    "print(text[0])  # 'P'\n",
    "print(text[1]) # \"Y\"\n",
    "#print(text[10]) # error becuase no indexing"
   ]
  },
  {
   "cell_type": "code",
   "execution_count": 197,
   "id": "9389a93d",
   "metadata": {},
   "outputs": [
    {
     "name": "stdout",
     "output_type": "stream",
     "text": [
      "Hello\n",
      "World\n",
      "Hello\n",
      "dlroW olleH\n"
     ]
    }
   ],
   "source": [
    "# Slicing\n",
    "text = \"Hello World\"\n",
    "print(text[0:5]) # Hello\n",
    "print(text[6:]) # World\n",
    "print(text[:5]) # Hello\n",
    "print(text[::-1]) # dlroW olleH (Reverse)\n"
   ]
  },
  {
   "cell_type": "markdown",
   "id": "32f4bb22",
   "metadata": {},
   "source": [
    "# ⚙️ String Methods\n",
    "These are built-in functions that can be used with strings to perform specific tasks:\n",
    "\n",
    "\n",
    "## Method\tDefinition\n",
    "```\n",
    "lower()\tConverts all characters to lowercase.\n",
    "upper()\tConverts all characters to uppercase.\n",
    "strip()\tRemoves whitespace from the beginning and end.\n",
    "replace()\tReplaces parts of the string with something else.\n",
    "split()\tSplits a string into a list using a delimiter (default is space).\n",
    "join()\tJoins elements of a list into a string, using a string as a separator.\n",
    "find()\tReturns the index of the first occurrence of a substring, or -1 if not found.\n",
    "```\n"
   ]
  },
  {
   "cell_type": "code",
   "execution_count": 198,
   "id": "9944bf9c",
   "metadata": {},
   "outputs": [
    {
     "name": "stdout",
     "output_type": "stream",
     "text": [
      "Hello Wolrd\n",
      "After text.lower():  hello wolrd\n",
      "After text.upper():  HELLO WOLRD\n",
      "After text.title():  Hello Wolrd\n",
      "After text.strip():  Hello Wolrd\n",
      "After text.replace():  Hello Didar\n",
      "6\n"
     ]
    }
   ],
   "source": [
    "text=\"Hello Wolrd\"\n",
    "print(text)\n",
    "print(\"After text.lower(): \",text.lower())\n",
    "print(\"After text.upper(): \",text.upper())\n",
    "print(\"After text.title(): \",text.title())\n",
    "print(\"After text.strip(): \",text.strip())\n",
    "\n",
    "print(\"After text.replace(): \",text.replace(\"Wolrd\",\"Didar\"))\n",
    "print(text.find(\"W\")) #return index"
   ]
  },
  {
   "cell_type": "code",
   "execution_count": 199,
   "id": "4a60a91d",
   "metadata": {},
   "outputs": [
    {
     "name": "stdout",
     "output_type": "stream",
     "text": [
      "['Hello Python', ' Hello World', ' ']\n",
      "Hello Python---- Hello World---- \n"
     ]
    }
   ],
   "source": [
    "text=\"Hello Python. Hello World. \"\n",
    "str_to_list=text.split(\".\") # split when . is found\n",
    "print(str_to_list)\n",
    "\n",
    "joined_text=\"----\".join(str_to_list) # join by ----\n",
    "print(joined_text)"
   ]
  },
  {
   "cell_type": "markdown",
   "id": "87ec7e33",
   "metadata": {},
   "source": [
    " ### Checking String Content\n",
    " 1. ✅ isalpha()\n",
    "Returns True if all characters in the string are alphabetic (A–Z or a–z) and there are no digits, spaces, or special characters.\n",
    "\n",
    "2.  ✅ isdigit()\n",
    "Returns True if all characters are digits (0–9).\n",
    "\n",
    "3. ✅ isalnum()\n",
    "Returns True if all characters are alphanumeric, meaning only letters and/or digits. No symbols or spaces."
   ]
  },
  {
   "cell_type": "code",
   "execution_count": 200,
   "id": "0780167d",
   "metadata": {},
   "outputs": [
    {
     "name": "stdout",
     "output_type": "stream",
     "text": [
      "False\n",
      "False\n",
      "True\n",
      "True\n",
      "True\n"
     ]
    }
   ],
   "source": [
    "text = \"Hello123\"\n",
    "\n",
    "print(text.isalpha())  # False – contains both letters and digits\n",
    "print(text.isdigit())  # False – not all characters are digits\n",
    "print(text.isalnum())  # True – all are letters or digits (no space or special chars)\n",
    "\n",
    "print(\"Hello\".isalpha())  # True\n",
    "print(\"123\".isdigit())    # True\n"
   ]
  },
  {
   "cell_type": "markdown",
   "id": "81afe386",
   "metadata": {},
   "source": [
    "# 🧩 String Formatting\n",
    "Used to insert variables into strings in a readable way.\n",
    "\n",
    "**f-strings:** (fast and modern) Embed expressions inside {} using the f prefix.\n",
    "\n",
    "\n",
    "**format() method**: Inserts values into placeholders {}."
   ]
  },
  {
   "cell_type": "code",
   "execution_count": 201,
   "id": "4d6eaa92",
   "metadata": {},
   "outputs": [
    {
     "name": "stdout",
     "output_type": "stream",
     "text": [
      "Hello, Deed\n"
     ]
    }
   ],
   "source": [
    "name = \"Deed\"\n",
    "print(f\"Hello, {name}\")  # Output: Hello, Deed\n"
   ]
  },
  {
   "cell_type": "code",
   "execution_count": 202,
   "id": "e36d0eeb",
   "metadata": {},
   "outputs": [
    {
     "name": "stdout",
     "output_type": "stream",
     "text": [
      "Hello, Deed\n"
     ]
    }
   ],
   "source": [
    "name=\"Deed\"\n",
    "print(\"Hello, {}\".format(name))  # Output: Hello, Deed\n"
   ]
  },
  {
   "cell_type": "code",
   "execution_count": null,
   "id": "bd67a953",
   "metadata": {},
   "outputs": [],
   "source": []
  },
  {
   "cell_type": "markdown",
   "id": "ba3f7fb1",
   "metadata": {},
   "source": [
    "## Checking Substrings\n",
    ". Checking Substrings in Python — ways to check if a certain part (substring) exists within a string, where it appears, or how many times it appears.\n",
    "1. Using the in keyword\n",
    "2. Using .find()\n",
    "3. Using .index()\n",
    "4. Using .count()"
   ]
  },
  {
   "cell_type": "code",
   "execution_count": 203,
   "id": "7733b03b",
   "metadata": {},
   "outputs": [
    {
     "name": "stdout",
     "output_type": "stream",
     "text": [
      "True\n",
      "False\n",
      "7\n",
      "-1\n",
      "7\n",
      "3\n",
      "2\n"
     ]
    }
   ],
   "source": [
    "# 1. Using the in keyword\n",
    "text = \"Hello, Python!\"\n",
    "print(\"Python\" in text)    # True\n",
    "print(\"Java\" in text)      # False\n",
    "\n",
    "# 2. Using .find()\n",
    "text = \"Hello, Python!\"\n",
    "print(text.find(\"Python\"))  # 7\n",
    "print(text.find(\"Java\"))    # -1\n",
    "\n",
    "# 3. Using .index()\n",
    "print(text.index(\"Python\"))  # 7\n",
    "# print(text.index(\"Java\"))  # ValueError: substring not found\n",
    "\n",
    "# 4. Using .count()\n",
    "text = \"banana\"\n",
    "print(text.count(\"a\"))     # 3\n",
    "print(text.count(\"na\"))    # 2"
   ]
  },
  {
   "cell_type": "markdown",
   "id": "99b553fd",
   "metadata": {},
   "source": [
    "## Padding Strings and Numbers\n",
    "Padding means adding extra spaces or characters to align or format text output nicely.\n",
    "\n",
    "▶️ Right-align (default for numbers)\n",
    "\n",
    "◀️ Left-align\n",
    "\n",
    "⏺️ Center-align\n",
    "\n",
    "🟩 Padding with custom characters:\n"
   ]
  },
  {
   "cell_type": "code",
   "execution_count": 204,
   "id": "6e1e3bd6",
   "metadata": {},
   "outputs": [
    {
     "name": "stdout",
     "output_type": "stream",
     "text": [
      "Python----\n",
      "----Python\n",
      "--Python--\n",
      "0000000042\n"
     ]
    }
   ],
   "source": [
    "text = \"Python\"\n",
    "print(text.ljust(10, \"-\")) # ’Python----’\n",
    "print(text.rjust(10, \"-\")) # ’----Python’\n",
    "print(text.center(10, \"-\")) # ’--Python--’\n",
    "#Paddingzeros:\n",
    "print(\"42\".zfill(10) )# ’00042\n"
   ]
  },
  {
   "cell_type": "markdown",
   "id": "34415d46",
   "metadata": {},
   "source": [
    "#  User Input in Python\n",
    "User Input in Python — how to accept and work with data entered by the user.\n",
    "\n",
    " **📥 1. Basic Input**:\n",
    "Use the input() function to get user input as a string.\n",
    "\n",
    " **🔢 2. Converting Input to Numbers**:\n",
    "Since input() always returns a string, you need to convert it if you want numbers"
   ]
  },
  {
   "cell_type": "code",
   "execution_count": 205,
   "id": "b9c4d251",
   "metadata": {},
   "outputs": [
    {
     "name": "stdout",
     "output_type": "stream",
     "text": [
      "11\n",
      "<class 'str'>\n"
     ]
    }
   ],
   "source": [
    "age=input(\"Enter your age\")\n",
    "print(age)\n",
    "print(type(age)) #string\n"
   ]
  },
  {
   "cell_type": "code",
   "execution_count": 206,
   "id": "4529c36c",
   "metadata": {},
   "outputs": [
    {
     "name": "stdout",
     "output_type": "stream",
     "text": [
      "You are 2 years old .\n",
      "cgpa: 2 and type of cgpa id <class 'int'>\n"
     ]
    }
   ],
   "source": [
    "age = int(input(\"Enter your age: \"))\n",
    "print(f\"You are {age} years old .\")\n",
    "\n",
    "##or \n",
    "cgpa=input(\"Enter your cgpa\")\n",
    "cgpa=int(cgpa)\n",
    "print(f\"cgpa: {cgpa} and type of cgpa id {type(cgpa)}\")\n",
    "\n",
    "\n"
   ]
  },
  {
   "cell_type": "code",
   "execution_count": 207,
   "id": "52da9c64",
   "metadata": {},
   "outputs": [
    {
     "name": "stdout",
     "output_type": "stream",
     "text": [
      "You are 2003 years old.\n"
     ]
    }
   ],
   "source": [
    "## Combined Example: Input + Casting + Comments\n",
    "# Get user’s birth year as input (input is always a string)\n",
    "birth_year = input(\"Enter your birth year: \")\n",
    "\n",
    "# Set the current year\n",
    "current_year = 2025\n",
    "\n",
    "# Convert birth year to integer and calculate age\n",
    "age = current_year - int(birth_year)\n",
    "\n",
    "# Display the result using f-string\n",
    "print(f\"You are {age} years old.\")\n"
   ]
  },
  {
   "cell_type": "markdown",
   "id": "caef01c3",
   "metadata": {},
   "source": [
    "# 📚 Lists in Python\n",
    "**🧾 What is a List?**\n",
    "\n",
    "- A list is an ordered, mutable (changeable) collection of items.\n",
    "- Items can be of any data type.\n",
    "\n"
   ]
  },
  {
   "cell_type": "code",
   "execution_count": 208,
   "id": "0c9b36f3",
   "metadata": {},
   "outputs": [
    {
     "name": "stdout",
     "output_type": "stream",
     "text": [
      "List1: [1, 2, 3, 4] and its type: <class 'list'>\n",
      "List2: ['apple', 'banana', 'cherry'] and its type: <class 'list'>\n",
      "List3: [1, 'apple', 3.14, True] and its type: <class 'list'>\n"
     ]
    }
   ],
   "source": [
    "#Creating Lists\n",
    "numbers = [1, 2, 3, 4]\n",
    "fruits = [\"apple\", \"banana\", \"cherry\"]\n",
    "mixed = [1, \"apple\", 3.14, True]\n",
    "\n",
    "print(f\"List1: {numbers} and its type: {type(numbers)}\")\n",
    "print(f\"List2: {fruits} and its type: {type(fruits)}\")\n",
    "print(f\"List3: {mixed} and its type: {type(mixed)}\")"
   ]
  },
  {
   "cell_type": "code",
   "execution_count": 209,
   "id": "1d0b4ab2",
   "metadata": {},
   "outputs": [
    {
     "name": "stdout",
     "output_type": "stream",
     "text": [
      "apple\n",
      "cherry\n",
      "['cherry', 'banana', 'apple']\n",
      "['banana', 'cherry']\n"
     ]
    }
   ],
   "source": [
    "# Accessing Items\n",
    "fruits = [\"apple\", \"banana\", \"cherry\"]\n",
    "print(fruits[0])    # First item: \"apple\"\n",
    "print(fruits[-1])   # Last item: \"cherry\"\n",
    "\n",
    "print(fruits[::-1]) #reverse\n",
    "print(fruits[1:]) #except 1 all"
   ]
  },
  {
   "cell_type": "code",
   "execution_count": 210,
   "id": "7c919bf0",
   "metadata": {},
   "outputs": [
    {
     "name": "stdout",
     "output_type": "stream",
     "text": [
      "['apple', 'banana']\n",
      "['apple', 'banana', 'cherry']\n"
     ]
    }
   ],
   "source": [
    "#List Operations\n",
    "#  Adding Item\n",
    "fruits = [\"apple\", \"banana\"]\n",
    "print(fruits)\n",
    "fruits.append(\"cherry\")      # ['apple', 'banana', 'cherry']\n",
    "print(fruits)\n",
    "\n"
   ]
  },
  {
   "cell_type": "code",
   "execution_count": 211,
   "id": "b04d5cfd",
   "metadata": {},
   "outputs": [
    {
     "name": "stdout",
     "output_type": "stream",
     "text": [
      "['apple', 'milk', 'banana', 'Olive']\n",
      "['apple', 'milk', 'Olive']\n",
      "['apple', 'banana']\n"
     ]
    }
   ],
   "source": [
    "#List Operations\n",
    "# Removing Items\n",
    "\n",
    "fruits = [\"apple\", \"milk\" ,\"banana\",\"Olive\"]\n",
    "print(fruits)\n",
    "fruits.remove(\"banana\")      # Removes by value\n",
    "print(fruits)\n",
    "\n",
    "fruits = [\"apple\", \"banana\"]\n",
    "print(fruits)\n",
    "\n"
   ]
  },
  {
   "cell_type": "code",
   "execution_count": 212,
   "id": "6760037d",
   "metadata": {},
   "outputs": [
    {
     "name": "stdout",
     "output_type": "stream",
     "text": [
      "[1, 2, 3]\n",
      "[1, 2, 3, 4]\n",
      "[1, 2, 3, 4, 5, 6]\n",
      "[0, 1, 2, 3, 4, 5, 6, 'a', 'b', 'c']\n",
      "['c', 'b', 'a', 6, 5, 4, 3, 2, 1, 0]\n",
      "[1, 2, 3]\n",
      "Lenght of list = 10\n",
      "Lenght of list = 3\n"
     ]
    }
   ],
   "source": [
    "#list methods\n",
    "numbers = [1, 2, 3]\n",
    "list2=[\"a\",\"b\",\"c\"]\n",
    "print(numbers)\n",
    "\n",
    "numbers.append(4)            # [1, 2, 3, 4]\n",
    "print(numbers)\n",
    "numbers.extend([5, 6])       # [1, 2, 3, 4, 5, 6]\n",
    "print(numbers)\n",
    "numbers.extend(list2)      #add list2 to numbers list\n",
    "numbers.insert(0, 0)         # [0, 1, 2, 3, 4, 5, 6]\n",
    "print(numbers)\n",
    "\n",
    "\n",
    "numbers.reverse()            # Reverses the list\n",
    "print(numbers)\n",
    "\n",
    "numb = [1, 2, 3]\n",
    "numb.sort()               # Sorts the list in ascending order\n",
    "print(numb)\n",
    "\n",
    "\n",
    "#lenght of lis\n",
    "print(f\"Lenght of list = {len(numbers)}\")\n",
    "\n",
    "print(f\"Lenght of list = {len(numb)}\")"
   ]
  },
  {
   "cell_type": "code",
   "execution_count": 213,
   "id": "bebfa0f3",
   "metadata": {},
   "outputs": [
    {
     "name": "stdout",
     "output_type": "stream",
     "text": [
      "True\n",
      "False\n"
     ]
    }
   ],
   "source": [
    "# Check if item exists\n",
    "num=[1,2,3,4,5,6,7,8,9]\n",
    "print(1 in num) # true\n",
    "print(a in num) #false"
   ]
  },
  {
   "cell_type": "markdown",
   "id": "92160d38",
   "metadata": {},
   "source": [
    "# 🧱 Tuples in Python\n",
    "\n",
    "## ✅ What is a Tuple?\n",
    "\n",
    "- A **tuple** is an **ordered**, **immutable** (unchangeable) collection of elements.\n",
    "- Tuples are defined using **parentheses `()`**.\n",
    "- Useful when you want to store fixed data that shouldn't be modified.\n",
    "\n",
    "```python\n",
    "my_tuple = (1, 2, 3)\n",
    "```\n",
    "### 📌 When to Use Tuples\n",
    "When data should not change.\n",
    "\n",
    "As keys in dictionaries (tuples are hashable, lists are not).\n",
    "\n",
    "For fixed structures, like coordinates: (x, y)\n",
    " \n",
    "```\n",
    "Feature | Tuple | List\n",
    "Syntax | (1, 2, 3) | [1, 2, 3]\n",
    "Mutable | ❌ No | ✅ Yes\n",
    "Ordered | ✅ Yes | ✅ Yes\n",
    "Methods | Fewer (count, index) | Many (append, remove, etc.)\n",
    "Performance | ✅ Faster (read-only) | ❌ Slightly slower\n",
    "Use Case | Fixed data | Dynamic data"
   ]
  },
  {
   "cell_type": "code",
   "execution_count": 214,
   "id": "e84f6e0e",
   "metadata": {},
   "outputs": [
    {
     "name": "stdout",
     "output_type": "stream",
     "text": [
      "()\n",
      "(5,)\n",
      "(1, 'hello', 3.14, True)\n",
      "(1, 2, (3, 4))\n"
     ]
    }
   ],
   "source": [
    "# Creating Tuples\n",
    "empty = ()                      # Empty tuple\n",
    "single = (5,)                   # Single item (comma is important!)\n",
    "mixed = (1, \"hello\", 3.14, True)\n",
    "nested = (1, 2, (3, 4))\n",
    "\n",
    "print(empty)\n",
    "print(single)\n",
    "print(mixed)\n",
    "print(nested)\n"
   ]
  },
  {
   "cell_type": "code",
   "execution_count": 215,
   "id": "64d81039",
   "metadata": {},
   "outputs": [
    {
     "name": "stdout",
     "output_type": "stream",
     "text": [
      "1\n",
      "True\n",
      "4\n"
     ]
    }
   ],
   "source": [
    "mixed=(1,2,3,4,\"True\")\n",
    "nested = (1, 2, (3, 4))\n",
    "# Accessing Tuple Elements\n",
    "print(mixed[0])      # 1\n",
    "print(mixed[-1])     # True\n",
    "print(nested[2][1])  # 4\n"
   ]
  },
  {
   "cell_type": "markdown",
   "id": "4f39b859",
   "metadata": {},
   "source": [
    "Tuple is Immutable\n",
    "```\n",
    "t = (1, 2, 3)\n",
    "t[0] = 100  # ❌ Error: 'tuple' object does not support item assignment"
   ]
  },
  {
   "cell_type": "code",
   "execution_count": 216,
   "id": "fe87e3bb",
   "metadata": {},
   "outputs": [
    {
     "name": "stdout",
     "output_type": "stream",
     "text": [
      "(1, 2, 3, 4)\n",
      "(1, 2, 1, 2)\n",
      "True\n"
     ]
    }
   ],
   "source": [
    "# Tuple Operations\n",
    "a = (1, 2)\n",
    "b = (3, 4)\n",
    "\n",
    "print(a + b)         # (1, 2, 3, 4) - Concatenation\n",
    "print(a * 2)         # (1, 2, 1, 2) - Repetition\n",
    "print(2 in a)        # True        - Membership\n"
   ]
  },
  {
   "cell_type": "code",
   "execution_count": 217,
   "id": "69abdf2f",
   "metadata": {},
   "outputs": [
    {
     "name": "stdout",
     "output_type": "stream",
     "text": [
      "3\n",
      "2\n"
     ]
    }
   ],
   "source": [
    "#tuples methods\n",
    "t = (1, 2, 3, 2, 4, 2)\n",
    "\n",
    "print(t.count(2))        # 3 (how many times 2 appears)\n",
    "print(t.index(3))           # 2 (position of first occurrence of 3)\n"
   ]
  },
  {
   "cell_type": "code",
   "execution_count": 218,
   "id": "dde194d8",
   "metadata": {},
   "outputs": [
    {
     "name": "stdout",
     "output_type": "stream",
     "text": [
      "1\n",
      "2\n",
      "3\n",
      "4\n",
      "(1, 2, 3)\n"
     ]
    }
   ],
   "source": [
    "t=(1,2,3,4,(1,2,3))\n",
    "# looping in tuple\n",
    "for item in t:\n",
    "    print(item)"
   ]
  },
  {
   "cell_type": "markdown",
   "id": "19f5b7ca",
   "metadata": {},
   "source": [
    "# 📚 Dictionaries in Python\n",
    "\n",
    "## ✅ What is a Dictionary?\n",
    "\n",
    "- A **dictionary** is a collection of **key-value pairs**.\n",
    "- Keys must be **unique** and **immutable** (like strings, numbers, tuples).\n",
    "- Values can be any data type.\n",
    "- Defined using **curly braces `{}`**.\n",
    "\n",
    "```python\n",
    "person = {\n",
    "    \"name\": \"Alice\",\n",
    "    \"age\": 30,\n",
    "    \"city\": \"New York\"\n",
    "}\n"
   ]
  },
  {
   "cell_type": "markdown",
   "id": "85735963",
   "metadata": {},
   "source": [
    "# Dictionary Methods\n",
    "```\n",
    "\n",
    "Method | Description\n",
    ".get(key) | Returns value, or None if key doesn't exist\n",
    ".keys() | Returns all keys\n",
    ".values() | Returns all values\n",
    ".items() | Returns list of (key, value) tuples\n",
    ".pop(key) | Removes specified key\n",
    ".update(dict) | Updates dictionary with another dictionary\n",
    ".clear() | Clears all items"
   ]
  },
  {
   "cell_type": "code",
   "execution_count": 219,
   "id": "3650e5d1",
   "metadata": {},
   "outputs": [
    {
     "name": "stdout",
     "output_type": "stream",
     "text": [
      "{'name': 'Alice', 'age': 30, 'sex': 'Male'}\n",
      "Alice\n",
      "30\n",
      "Male\n"
     ]
    }
   ],
   "source": [
    "# Creating Dictionary\n",
    "# Empty dictionary\n",
    "empty_dict = {}\n",
    "\n",
    "# Dictionary with initial values\n",
    "person = {\"name\": \"Alice\",\n",
    "           \"age\": 30,\n",
    "           \"sex\":\"Male\"\n",
    "           }\n",
    "print(person)\n",
    "\n",
    "\n",
    "## Accessing Dictionary Items\n",
    "print(person[\"name\"])       # Alice\n",
    "print(person.get(\"age\"))    # 30\n",
    "print(person.get(\"sex\")) # male\n"
   ]
  },
  {
   "cell_type": "markdown",
   "id": "1bbc1f3e",
   "metadata": {},
   "source": [
    "### 📌 Key Points to Remember\n",
    "Keys must be unique (no duplicates).\n",
    "\n",
    "Keys must be immutable (strings, numbers, tuples).\n",
    "\n",
    "Dictionaries are unordered (until Python 3.7, now they preserve insertion order).\n",
    "\n",
    "### 🎯 Mini Summary\n",
    "\n",
    "Feature\tDictionary\n",
    "Syntax\t{key: value}\n",
    "Mutable\t✅ Yes\n",
    "Access\tBy key\n",
    "Common Use\tFast lookups, flexible storage"
   ]
  },
  {
   "cell_type": "code",
   "execution_count": 220,
   "id": "148a8abe",
   "metadata": {},
   "outputs": [
    {
     "name": "stdout",
     "output_type": "stream",
     "text": [
      "{'name': 'Alice', 'age': 30, 'sex': 'Male'}\n",
      "{'name': 'Alice', 'age': 30, 'sex': 'Male', 'email': 'alice@example.com'}\n",
      "{'name': 'Alice', 'age': 31, 'sex': 'Male', 'email': 'alice@example.com'}\n"
     ]
    }
   ],
   "source": [
    "# Dictionary Operations\n",
    "print(person)\n",
    "person[\"email\"] = \"alice@example.com\"  # Add new key-value\n",
    "print(person)\n",
    "person[\"age\"] = 31                     # Update value\n",
    "print(person)\n"
   ]
  },
  {
   "cell_type": "code",
   "execution_count": 221,
   "id": "32021cbc",
   "metadata": {},
   "outputs": [
    {
     "name": "stdout",
     "output_type": "stream",
     "text": [
      "{'name': 'Alice', 'age': 31, 'sex': 'Male', 'email': 'alice@example.com'}\n",
      "{'name': 'Alice', 'age': 31, 'sex': 'Male'}\n",
      "{'name': 'Alice', 'sex': 'Male'}\n",
      "{}\n"
     ]
    }
   ],
   "source": [
    "# Removing Items\n",
    "print(person)\n",
    "person.pop(\"email\")         # Removes 'email'\n",
    "print(person)\n",
    "del person[\"age\"]          # Deletes 'age'\n",
    "print(person)\n",
    "person.clear()             # Empties the dictionary\n",
    "print(person)\n"
   ]
  },
  {
   "cell_type": "code",
   "execution_count": 222,
   "id": "814b7b64",
   "metadata": {},
   "outputs": [
    {
     "name": "stdout",
     "output_type": "stream",
     "text": [
      "name\n",
      "age\n",
      "sex\n",
      "Alice\n",
      "30\n",
      "Male\n",
      "name: Alice\n",
      "age: 30\n",
      "sex: Male\n"
     ]
    }
   ],
   "source": [
    "# Looping Through Dictionaries\n",
    "# Loop through keys\n",
    "person = {\"name\": \"Alice\",\n",
    "           \"age\": 30,\n",
    "           \"sex\":\"Male\"\n",
    "           }\n",
    "for key in person:\n",
    "    print(key)\n",
    "\n",
    "# Loop through values\n",
    "for value in person.values():\n",
    "    print(value)\n",
    "\n",
    "# Loop through key-value pairs\n",
    "for key, value in person.items():\n",
    "    print(f\"{key}: {value}\")\n"
   ]
  },
  {
   "cell_type": "code",
   "execution_count": 223,
   "id": "e1503518",
   "metadata": {},
   "outputs": [
    {
     "name": "stdout",
     "output_type": "stream",
     "text": [
      "{'name': 'Bob', 'age': 25}\n",
      "{'name': 'Bob', 'age': 25, 'city': 'London', 'email': 'bob@example.com'}\n"
     ]
    }
   ],
   "source": [
    "info = {\"name\": \"Bob\", \"age\": 25}\n",
    "extra = {\"city\": \"London\", \"email\": \"bob@example.com\"}\n",
    "print(info)\n",
    "\n",
    "info.update(extra)\n",
    "print(info)\n",
    "# Output: {'name': 'Bob', 'age': 25, 'city': 'London', 'email': 'bob@example.com'}\n"
   ]
  },
  {
   "cell_type": "markdown",
   "id": "98873a32",
   "metadata": {},
   "source": [
    "# 🔢 Sets in Python\n",
    "\n",
    "## ✅ What is a Set?\n",
    "\n",
    "- A **set** is an **unordered**, **mutable**, **collection of unique elements**.\n",
    "- Defined using **curly braces `{}`** or the `set()` constructor.\n",
    "- **Duplicates are automatically removed**.\n",
    "\n",
    "```python\n",
    "my_set = {1, 2, 3}\n",
    "\n",
    "```\n",
    "\n",
    "### 🔍 Accessing Set Items\n",
    "You cannot access items by index (unordered).\n",
    "\n",
    "You can loop through a set\n",
    "\n",
    "```\n",
    "Method | Description\n",
    ".add(x) | Adds item x\n",
    ".remove(x) | Removes item x (error if not found)\n",
    ".discard(x) | Removes item x (no error if not found)\n",
    ".clear() | Removes all items\n",
    ".copy() | Returns a shallow copy\n",
    ".union(other_set) | Combines two sets\n",
    ".intersection() | Items common to both sets\n",
    ".difference() | Items in this set but not in other\n",
    "\n",
    "\n",
    "```\n",
    "```\n",
    "Feature | Set | List | Tuple\n",
    "Ordered | ❌ No | ✅ Yes | ✅ Yes\n",
    "Mutable | ✅ Yes | ✅ Yes | ❌ No\n",
    "Duplicates | ❌ No | ✅ Yes | ✅ Yes\n",
    "Indexed | ❌ No | ✅ Yes | ✅ Yes"
   ]
  },
  {
   "cell_type": "code",
   "execution_count": 224,
   "id": "3c196456",
   "metadata": {},
   "outputs": [
    {
     "name": "stdout",
     "output_type": "stream",
     "text": [
      "{1, 2, 3, 4}\n",
      "{'e', 'l', 'h', 'o'}\n"
     ]
    }
   ],
   "source": [
    "# Creating Sets\n",
    "# Set of numbers\n",
    "nums = {1, 2, 3, 4, 4, 2}\n",
    "print(nums)  # Output: {1, 2, 3, 4} — duplicates removed\n",
    "\n",
    "# Using set() constructor\n",
    "letters = set(\"hello\")  # Output: {'e', 'h', 'l', 'o'}\n",
    "print(letters)\n",
    "\n"
   ]
  },
  {
   "cell_type": "code",
   "execution_count": 225,
   "id": "a8cdce07",
   "metadata": {},
   "outputs": [
    {
     "name": "stdout",
     "output_type": "stream",
     "text": [
      "1\n",
      "4\n",
      "9\n",
      "16\n",
      "25\n",
      "36\n"
     ]
    }
   ],
   "source": [
    "# Accessing Set Items\n",
    "nums={1,2,3,4,5,6}\n",
    "for item in nums:\n",
    "    print(item**2) # square of num\n",
    "\n",
    "\n"
   ]
  },
  {
   "cell_type": "markdown",
   "id": "94ca8a8b",
   "metadata": {},
   "source": [
    "## 🔄 Set Mathematical Operations\n",
    "Union (OR)\n",
    "```\n",
    "a = {1, 2, 3}\n",
    "b = {3, 4, 5}\n",
    "print(a | b)        # {1, 2, 3, 4, 5}\n",
    "```\n",
    "Intersection (AND)\n",
    "```\n",
    "print(a & b)        # {3}\n",
    "\n",
    "```\n",
    "Difference (A - B)\n",
    "```\n",
    "print(a - b)        # {1, 2}\n",
    "```\n",
    "Symmetric Difference (XOR)\n",
    "```\n",
    "print(a ^ b)        # {1, 2, 4, 5}"
   ]
  },
  {
   "cell_type": "code",
   "execution_count": 226,
   "id": "19f48d18",
   "metadata": {},
   "outputs": [
    {
     "name": "stdout",
     "output_type": "stream",
     "text": [
      "{1, 2, 3, 4, 5, 6}\n",
      "{1, 2, 3, 4, 5, 6}\n",
      "{1, 2, 4, 5, 6}\n",
      "{1, 2, 4, 5, 6}\n"
     ]
    }
   ],
   "source": [
    "# Set Operations\n",
    "print(nums)\n",
    "nums.add(5)\n",
    "print(nums)\n",
    "nums.remove(3)      # Removes item (error if not found)\n",
    "print(nums)\n",
    "nums.discard(10)    # Removes item (no error if not found)\n",
    "print(nums)\n"
   ]
  },
  {
   "cell_type": "markdown",
   "id": "d9a0abb9",
   "metadata": {},
   "source": [
    "# 🔁 Control Flow in Python: `if`, `elif`, `else`\n",
    "\n",
    "## ✅ What is Control Flow?\n",
    "\n",
    "Control flow allows you to run different blocks of code depending on conditions.  \n",
    "Python uses:\n",
    "- `if` to test a condition\n",
    "- `elif` (else if) to test another condition if the previous was false\n",
    "- `else` to run code if no condition is true\n",
    "\n",
    "---\n",
    "\n",
    "## 🔹 Basic Syntax\n",
    "\n",
    "```python\n",
    "if condition1:\n",
    "    # block of code if condition1 is true\n",
    "elif condition2:\n",
    "    # block of code if condition2 is true\n",
    "else:\n",
    "    # block of code if none of the above is true\n"
   ]
  },
  {
   "cell_type": "code",
   "execution_count": 227,
   "id": "0ae3c158",
   "metadata": {},
   "outputs": [
    {
     "name": "stdout",
     "output_type": "stream",
     "text": [
      "Grade: B\n"
     ]
    }
   ],
   "source": [
    "score = 85\n",
    "\n",
    "if score >= 90:\n",
    "    print(\"Grade: A\")\n",
    "elif score >= 80:\n",
    "    print(\"Grade: B\")\n",
    "elif score >= 70:\n",
    "    print(\"Grade: C\")\n",
    "else:\n",
    "    print(\"Grade: F\")\n"
   ]
  },
  {
   "cell_type": "code",
   "execution_count": 230,
   "id": "321f0e09",
   "metadata": {},
   "outputs": [
    {
     "name": "stdout",
     "output_type": "stream",
     "text": [
      "You can't drive.\n"
     ]
    }
   ],
   "source": [
    "# Example 3: Multiple Conditions with and, or\n",
    "age = 25\n",
    "has_license = False\n",
    "\n",
    "if age >= 18 and has_license:\n",
    "    print(\"You can drive.\")\n",
    "else:\n",
    "    print(\"You can't drive.\")\n"
   ]
  },
  {
   "cell_type": "code",
   "execution_count": 235,
   "id": "0fca1864",
   "metadata": {},
   "outputs": [
    {
     "name": "stdout",
     "output_type": "stream",
     "text": [
      "Negative and even\n"
     ]
    }
   ],
   "source": [
    "# Nested Conditions\n",
    "num = -10\n",
    "\n",
    "if num > 0:\n",
    "    if num % 2 == 0:\n",
    "        print(\"Positive and even\")\n",
    "    else:\n",
    "        print(\"Positive but odd\")\n",
    "else:\n",
    "    if num % 2 == 0:\n",
    "        print(\"Negative and even\")\n",
    "    else:\n",
    "        print(\"Negative but odd\")\n"
   ]
  },
  {
   "cell_type": "markdown",
   "id": "5843c1b5",
   "metadata": {},
   "source": [
    "# 🔄 Looping Structures in Python\n",
    "\n",
    "Python provides two main types of loops:\n",
    "- `for` loop – Iterates over a sequence (like a list, tuple, string, etc.)\n",
    "- `while` loop – Repeats as long as a condition is `True`\n",
    "\n",
    "---\n",
    "\n",
    "## 🔁 `for` Loop\n",
    "\n",
    "Used to iterate over items of a sequence.\n",
    "\n",
    "```python\n",
    "fruits = [\"apple\", \"banana\", \"cherry\"]\n",
    "\n",
    "for fruit in fruits:\n",
    "    print(fruit)\n"
   ]
  },
  {
   "cell_type": "code",
   "execution_count": 236,
   "id": "7eca1810",
   "metadata": {},
   "outputs": [
    {
     "name": "stdout",
     "output_type": "stream",
     "text": [
      "apple\n",
      "banana\n",
      "cherry\n"
     ]
    }
   ],
   "source": [
    "fruits = [\"apple\", \"banana\", \"cherry\"]\n",
    "\n",
    "for fruit in fruits:\n",
    "    print(fruit)"
   ]
  },
  {
   "cell_type": "code",
   "execution_count": 237,
   "id": "0047f053",
   "metadata": {},
   "outputs": [
    {
     "name": "stdout",
     "output_type": "stream",
     "text": [
      "0\n",
      "1\n",
      "2\n",
      "3\n",
      "4\n"
     ]
    }
   ],
   "source": [
    "#Using range() with for\n",
    "for i in range(5):\n",
    "    print(i)  # Output: 0 to 4\n"
   ]
  },
  {
   "cell_type": "markdown",
   "id": "bef5f995",
   "metadata": {},
   "source": [
    "## while Loop\n",
    "Repeats a block of code while a condition is True.\n",
    "```\n",
    "count = 0\n",
    "\n",
    "while count < 5:\n",
    "    print(count)\n",
    "    count += 1\n"
   ]
  },
  {
   "cell_type": "code",
   "execution_count": 238,
   "id": "0f148809",
   "metadata": {},
   "outputs": [
    {
     "name": "stdout",
     "output_type": "stream",
     "text": [
      "0\n",
      "1\n",
      "2\n",
      "3\n",
      "4\n"
     ]
    }
   ],
   "source": [
    "count = 0\n",
    "\n",
    "while count < 5:\n",
    "    print(count)\n",
    "    count += 1\n"
   ]
  },
  {
   "cell_type": "markdown",
   "id": "3df1a593",
   "metadata": {},
   "source": [
    "## ⚙️ Control Statements\n",
    "### 🔚 break\n",
    "Stops the loop immediately.\n",
    "\n",
    "```python\n",
    "\n",
    "for i in range(10):\n",
    "    if i == 5:\n",
    "        break\n",
    "    print(i)\n",
    "```\n",
    "### ⏭️ continue\n",
    "Skips the current iteration and moves to the next.\n",
    "\n",
    "``` python\n",
    "for i in range(5):\n",
    "    if i == 2:\n",
    "        continue\n",
    "    print(i)  # Skips printing 2\n",
    "```"
   ]
  },
  {
   "cell_type": "code",
   "execution_count": 239,
   "id": "5d75fd2a",
   "metadata": {},
   "outputs": [
    {
     "name": "stdout",
     "output_type": "stream",
     "text": [
      "0\n",
      "1\n",
      "2\n",
      "3\n",
      "4\n"
     ]
    }
   ],
   "source": [
    "for i in range(10):\n",
    "    if i == 5:\n",
    "        break\n",
    "    print(i)"
   ]
  },
  {
   "cell_type": "code",
   "execution_count": 242,
   "id": "72dc1fba",
   "metadata": {},
   "outputs": [
    {
     "name": "stdout",
     "output_type": "stream",
     "text": [
      "0\n",
      "1\n",
      "3\n",
      "4\n"
     ]
    }
   ],
   "source": [
    "for i in range(5):\n",
    "    if i == 2:\n",
    "        continue\n",
    "    print(i)  # Skips printing 2"
   ]
  },
  {
   "cell_type": "markdown",
   "id": "f6c96bb3",
   "metadata": {},
   "source": [
    "## Summary\n",
    "```\n",
    "Structure | Description\n",
    "for loop | Iterates over items in a sequence\n",
    "while loop | Repeats while condition is True\n",
    "break | Exits the loop early\n",
    "continue | Skips current iteration\n",
    "else clause | Runs if loop finishes normally"
   ]
  },
  {
   "cell_type": "code",
   "execution_count": 243,
   "id": "52636077",
   "metadata": {},
   "outputs": [
    {
     "name": "stdout",
     "output_type": "stream",
     "text": [
      "0\n",
      "1\n",
      "2\n",
      "Loop completed without break\n"
     ]
    }
   ],
   "source": [
    "for i in range(3):\n",
    "    print(i)\n",
    "else:\n",
    "    print(\"Loop completed without break\")\n"
   ]
  },
  {
   "cell_type": "markdown",
   "id": "1534cc47",
   "metadata": {},
   "source": [
    "## pass: Placeholder, does nothing.\n",
    "```\n",
    "if True:\n",
    "    pass # Placeholder for future code"
   ]
  },
  {
   "cell_type": "markdown",
   "id": "a686fa56",
   "metadata": {},
   "source": [
    "# 📝 List Comprehensions in Python\n",
    "\n",
    "## ✅ What is a List Comprehension?\n",
    "\n",
    "- A **shorter, cleaner way** to create lists in Python.\n",
    "- Combines **looping** and **conditional logic** in a single line.\n",
    "- Syntax:\n",
    "```python\n",
    "[expression for item in iterable if condition]\n",
    "\n",
    "squares = [x * x for x in range(5)]\n",
    "print(squares)  # [0, 1, 4, 9, 16]\n",
    "\n",
    "#is same as\n",
    "squares = []\n",
    "for x in range(5):\n",
    "    squares.append(x * x)\n"
   ]
  },
  {
   "cell_type": "markdown",
   "id": "e5e03eeb",
   "metadata": {},
   "source": [
    "```\n",
    "\n",
    "Feature | List Comprehension | For Loop\n",
    "Syntax | Concise, single line | Multi-line, more readable for logic\n",
    "Performance | Faster in most cases | Slower for large iterations\n",
    "Readability | Best for simple logic | Best for complex logic"
   ]
  },
  {
   "cell_type": "code",
   "execution_count": 244,
   "id": "5e443134",
   "metadata": {},
   "outputs": [
    {
     "name": "stdout",
     "output_type": "stream",
     "text": [
      "[4, 16, 36, 64, 100]\n"
     ]
    }
   ],
   "source": [
    "###\n",
    "### Practice Challenge\n",
    "## Create a list of squares for even numbers between 1 and 10:\n",
    "\n",
    "even_squares = [x * x for x in range(1, 11) if x % 2 == 0]\n",
    "print(even_squares)  # [4, 16, 36, 64, 100]\n"
   ]
  },
  {
   "cell_type": "code",
   "execution_count": null,
   "id": "2fdf2d11",
   "metadata": {},
   "outputs": [],
   "source": []
  }
 ],
 "metadata": {
  "kernelspec": {
   "display_name": "NavTexEnv",
   "language": "python",
   "name": "python3"
  },
  "language_info": {
   "codemirror_mode": {
    "name": "ipython",
    "version": 3
   },
   "file_extension": ".py",
   "mimetype": "text/x-python",
   "name": "python",
   "nbconvert_exporter": "python",
   "pygments_lexer": "ipython3",
   "version": "3.10.16"
  }
 },
 "nbformat": 4,
 "nbformat_minor": 5
}
